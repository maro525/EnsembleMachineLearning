{
 "cells": [
  {
   "cell_type": "markdown",
   "metadata": {},
   "source": [
    "# 重回帰分析とは"
   ]
  },
  {
   "cell_type": "markdown",
   "metadata": {},
   "source": [
    "まず、単回帰分析について。\n",
    "\n",
    "単回帰分析では、1つの目的変数(y)を1つの説明変数(x)で予測する。\n",
    "\n",
    "下の単回帰式において、係数a,cを求めることを単回帰分析という。\n",
    "\n",
    "\\begin{equation*}  y = ax + c  \\end{equation*}"
   ]
  },
  {
   "cell_type": "markdown",
   "metadata": {},
   "source": [
    "そして、重回帰分析について。\n",
    "\n",
    "重回帰分析では、2つ以上の説明変数が必要になる。\n",
    "\n",
    "最高気温と通行人数を２つの説明変数とし、アイスクリームの売上額を目的変数として、重回帰分析を行ってみる。\n",
    "\n",
    "データは、http://web.sfc.keio.ac.jp/~takefuji/ice.csv からダウンロード。\n",
    "\n",
    "アイスクリームの売上の重回帰式は、\n",
    "\\begin{equation*} y = temp * x1 + street * x2 + c \\end{equation*}\n",
    "\n",
    "temp と　street は求めたい重回帰式の係数。\n",
    "\n",
    "従来の統計手法では、R-squared値(実際のデータと予測値のフィット度)が予測の正確さを表現する。1に近いほど、正確なことを意味する。\n",
    "\n",
    "機械学習では、データ（入力と出力)を学習器に与えることで、自動的にモデルを作成する。"
   ]
  },
  {
   "cell_type": "markdown",
   "metadata": {},
   "source": [
    "### 1.1.0 最小二乗法OLS(Ordinary Least Square)"
   ]
  },
  {
   "cell_type": "markdown",
   "metadata": {},
   "source": [
    "ここでは、statsmodelsのPythonライブラリを使う。"
   ]
  },
  {
   "cell_type": "code",
   "execution_count": 1,
   "metadata": {
    "collapsed": false
   },
   "outputs": [
    {
     "name": "stdout",
     "output_type": "stream",
     "text": [
      "                            OLS Regression Results                            \n",
      "==============================================================================\n",
      "Dep. Variable:                    ice   R-squared:                       0.450\n",
      "Model:                            OLS   Adj. R-squared:                  0.411\n",
      "Method:                 Least Squares   F-statistic:                     11.46\n",
      "Date:                Sun, 01 Jan 2017   Prob (F-statistic):           0.000231\n",
      "Time:                        17:53:16   Log-Likelihood:                -283.23\n",
      "No. Observations:                  31   AIC:                             572.5\n",
      "Df Residuals:                      28   BIC:                             576.8\n",
      "Df Model:                           2                                         \n",
      "Covariance Type:            nonrobust                                         \n",
      "==============================================================================\n",
      "                 coef    std err          t      P>|t|      [95.0% Conf. Int.]\n",
      "------------------------------------------------------------------------------\n",
      "const        794.1355   4699.350      0.169      0.867     -8832.046  1.04e+04\n",
      "temp         176.1438    145.863      1.208      0.237      -122.643   474.930\n",
      "street         1.3104      0.283      4.626      0.000         0.730     1.891\n",
      "==============================================================================\n",
      "Omnibus:                        1.882   Durbin-Watson:                   1.971\n",
      "Prob(Omnibus):                  0.390   Jarque-Bera (JB):                1.718\n",
      "Skew:                          -0.494   Prob(JB):                        0.424\n",
      "Kurtosis:                       2.406   Cond. No.                     6.50e+04\n",
      "==============================================================================\n",
      "\n",
      "Warnings:\n",
      "[1] Standard Errors assume that the covariance matrix of the errors is correctly specified.\n",
      "[2] The condition number is large, 6.5e+04. This might indicate that there are\n",
      "strong multicollinearity or other numerical problems.\n"
     ]
    }
   ],
   "source": [
    "# ライブラリの呼び出し\n",
    "import pandas as pd\n",
    "import statsmodels.api as sm\n",
    "\n",
    "# データの読み込み\n",
    "data = pd.read_csv('../data/ice.csv')\n",
    "x = data[['temp', 'street']]\n",
    "x = sm.add_constant(x) # 重回帰式の定数を設定\n",
    "y = data['ice']\n",
    "\n",
    "# statsmodelsライブラリのOLSアルゴリズム(最小2乗法)を使う\n",
    "est = sm.OLS(y,x).fit()\n",
    "print(est.summary())"
   ]
  },
  {
   "cell_type": "markdown",
   "metadata": {},
   "source": [
    "実際のアイスクリームの売上と、予測子た売上をグラフ表示して、直感的に決定係数(フィット係数)を表示してくれるプログラムを示す。"
   ]
  },
  {
   "cell_type": "code",
   "execution_count": 18,
   "metadata": {
    "collapsed": false
   },
   "outputs": [
    {
     "data": {
      "image/png": "[encoded data removed]",
      "text/plain": [
       "<matplotlib.figure.Figure at 0x115a4c4e0>"
      ]
     },
     "metadata": {},
     "output_type": "display_data"
    }
   ],
   "source": [
    "%matplotlib inline\n",
    "import numpy as np\n",
    "import matplotlib.pyplot as plt\n",
    "t = np.arange(0.0, 31.0) # 0.0から31.0の31個を表示\n",
    "e = est.predict(x)\n",
    "\n",
    "# '--'は大きい破線 ':'は細かい破線 '-'は実線 '-.'は一点鎖線\n",
    "# b : blue, r: red, g : green, c : cyan, m : magenta, y : yellow, k : black, w : white\n",
    "plt.plot(t,y,'-b')\n",
    "plt.plot(t,e,'--b')\n",
    "plt.legend(('real', 'OLS')) # 凡例を表示\n",
    "plt.show()"
   ]
  },
  {
   "cell_type": "markdown",
   "metadata": {},
   "source": [
    "### 1.1.1 一般化最小二乗法GLS(Generalized Least Squares)"
   ]
  },
  {
   "cell_type": "code",
   "execution_count": 3,
   "metadata": {
    "collapsed": false
   },
   "outputs": [
    {
     "name": "stdout",
     "output_type": "stream",
     "text": [
      "                            GLS Regression Results                            \n",
      "==============================================================================\n",
      "Dep. Variable:                    ice   R-squared:                       0.450\n",
      "Model:                            GLS   Adj. R-squared:                  0.411\n",
      "Method:                 Least Squares   F-statistic:                     11.46\n",
      "Date:                Sun, 01 Jan 2017   Prob (F-statistic):           0.000231\n",
      "Time:                        17:53:36   Log-Likelihood:                -283.23\n",
      "No. Observations:                  31   AIC:                             572.5\n",
      "Df Residuals:                      28   BIC:                             576.8\n",
      "Df Model:                           2                                         \n",
      "Covariance Type:            nonrobust                                         \n",
      "==============================================================================\n",
      "                 coef    std err          t      P>|t|      [95.0% Conf. Int.]\n",
      "------------------------------------------------------------------------------\n",
      "const        794.1355   4699.350      0.169      0.867     -8832.046  1.04e+04\n",
      "temp         176.1438    145.863      1.208      0.237      -122.643   474.930\n",
      "street         1.3104      0.283      4.626      0.000         0.730     1.891\n",
      "==============================================================================\n",
      "Omnibus:                        1.882   Durbin-Watson:                   1.971\n",
      "Prob(Omnibus):                  0.390   Jarque-Bera (JB):                1.718\n",
      "Skew:                          -0.494   Prob(JB):                        0.424\n",
      "Kurtosis:                       2.406   Cond. No.                     6.50e+04\n",
      "==============================================================================\n",
      "\n",
      "Warnings:\n",
      "[1] Standard Errors assume that the covariance matrix of the errors is correctly specified.\n",
      "[2] The condition number is large, 6.5e+04. This might indicate that there are\n",
      "strong multicollinearity or other numerical problems.\n"
     ]
    }
   ],
   "source": [
    "import pandas as pd\n",
    "import statsmodels.api as sm\n",
    "data = pd.read_csv('../data/ice.csv')\n",
    "x = data[['temp', 'street']]\n",
    "x = sm.add_constant(x)\n",
    "y = data['ice']\n",
    "est = sm.GLS(y,x).fit()\n",
    "print(est.summary())"
   ]
  },
  {
   "cell_type": "markdown",
   "metadata": {},
   "source": [
    "OLSと同じ結果"
   ]
  },
  {
   "cell_type": "markdown",
   "metadata": {},
   "source": [
    "### 1.1.2 加重最小二乗法WLS(Weighted Least Squares)"
   ]
  },
  {
   "cell_type": "code",
   "execution_count": 4,
   "metadata": {
    "collapsed": false
   },
   "outputs": [
    {
     "name": "stdout",
     "output_type": "stream",
     "text": [
      "                            WLS Regression Results                            \n",
      "==============================================================================\n",
      "Dep. Variable:                    ice   R-squared:                       0.450\n",
      "Model:                            WLS   Adj. R-squared:                  0.411\n",
      "Method:                 Least Squares   F-statistic:                     11.46\n",
      "Date:                Sun, 01 Jan 2017   Prob (F-statistic):           0.000231\n",
      "Time:                        17:53:43   Log-Likelihood:                -283.23\n",
      "No. Observations:                  31   AIC:                             572.5\n",
      "Df Residuals:                      28   BIC:                             576.8\n",
      "Df Model:                           2                                         \n",
      "Covariance Type:            nonrobust                                         \n",
      "==============================================================================\n",
      "                 coef    std err          t      P>|t|      [95.0% Conf. Int.]\n",
      "------------------------------------------------------------------------------\n",
      "const        794.1355   4699.350      0.169      0.867     -8832.046  1.04e+04\n",
      "temp         176.1438    145.863      1.208      0.237      -122.643   474.930\n",
      "street         1.3104      0.283      4.626      0.000         0.730     1.891\n",
      "==============================================================================\n",
      "Omnibus:                        1.882   Durbin-Watson:                   1.971\n",
      "Prob(Omnibus):                  0.390   Jarque-Bera (JB):                1.718\n",
      "Skew:                          -0.494   Prob(JB):                        0.424\n",
      "Kurtosis:                       2.406   Cond. No.                     6.50e+04\n",
      "==============================================================================\n",
      "\n",
      "Warnings:\n",
      "[1] Standard Errors assume that the covariance matrix of the errors is correctly specified.\n",
      "[2] The condition number is large, 6.5e+04. This might indicate that there are\n",
      "strong multicollinearity or other numerical problems.\n"
     ]
    }
   ],
   "source": [
    "import pandas as pd\n",
    "import statsmodels.api as sm\n",
    "data = pd.read_csv('../data/ice.csv')\n",
    "x = data[['temp', 'street']]\n",
    "x = sm.add_constant(x)\n",
    "y = data['ice']\n",
    "est = sm.WLS(y,x).fit()\n",
    "print(est.summary())"
   ]
  },
  {
   "cell_type": "markdown",
   "metadata": {},
   "source": [
    "OLSやGLSとまったく同じ結果"
   ]
  },
  {
   "cell_type": "markdown",
   "metadata": {},
   "source": [
    "### 1.1.3 ロバスト線形モデルRLM(Robust Linear Model)\n",
    "\n",
    "RLMには、6つの評価基準関数が実装されている。(HuberT, LeastSquares, AndrewWave, RamsayE, TrimmeddMean, Hampel)\n",
    "\n",
    "RLMには、R-squared値を計算する関数が用意されていないので、sklearn.metricsライブラリのr2_score関数を利用して計算する。"
   ]
  },
  {
   "cell_type": "code",
   "execution_count": 5,
   "metadata": {
    "collapsed": false
   },
   "outputs": [
    {
     "name": "stdout",
     "output_type": "stream",
     "text": [
      "R-squared: 0.448338473282\n",
      "                 Results: Robust linear model\n",
      "==============================================================\n",
      "Model:                 RLM               Df Residuals:  28    \n",
      "Dependent Variable:    ice               Norm:          HuberT\n",
      "Date:                  2017-01-01 17:53  Scale Est.:    mad   \n",
      "No. Observations:      31                Cov. Type:     H1    \n",
      "Df Model:              2                 Scale:         2323.8\n",
      "--------------------------------------------------------------\n",
      "         Coef.    Std.Err.   z    P>|z|    [0.025     0.975]  \n",
      "--------------------------------------------------------------\n",
      "const  1221.9454 5062.1924 0.2414 0.8093 -8699.7695 11143.6602\n",
      "temp    173.7148  157.1251 1.1056 0.2689  -134.2447   481.6743\n",
      "street    1.2670    0.3052 4.1519 0.0000     0.6689     1.8651\n",
      "==============================================================\n",
      "\n",
      "R-squared: 0.450081118761\n",
      "                 Results: Robust linear model\n",
      "===============================================================\n",
      "Model:              RLM              Df Residuals: 28          \n",
      "Dependent Variable: ice              Norm:         LeastSquares\n",
      "Date:               2017-01-01 17:53 Scale Est.:   mad         \n",
      "No. Observations:   31               Cov. Type:    H1          \n",
      "Df Model:           2                Scale:        2379.0      \n",
      "---------------------------------------------------------------\n",
      "          Coef.    Std.Err.   z    P>|z|    [0.025     0.975]  \n",
      "---------------------------------------------------------------\n",
      "const    794.1355 4699.3498 0.1690 0.8658 -8416.4210 10004.6919\n",
      "temp     176.1438  145.8628 1.2076 0.2272  -109.7421   462.0297\n",
      "street     1.3104    0.2833 4.6256 0.0000     0.7551     1.8656\n",
      "===============================================================\n",
      "\n",
      "R-squared: 0.448265292598\n",
      "                Results: Robust linear model\n",
      "=============================================================\n",
      "Model:              RLM              Df Residuals: 28        \n",
      "Dependent Variable: ice              Norm:         AndrewWave\n",
      "Date:               2017-01-01 17:53 Scale Est.:   mad       \n",
      "No. Observations:   31               Cov. Type:    H1        \n",
      "Df Model:           2                Scale:        2358.5    \n",
      "-------------------------------------------------------------\n",
      "        Coef.    Std.Err.   z    P>|z|    [0.025     0.975]  \n",
      "-------------------------------------------------------------\n",
      "const  973.7660 5028.0979 0.1937 0.8464 -8881.1249 10828.6568\n",
      "temp   182.7829  156.0668 1.1712 0.2415  -123.1025   488.6682\n",
      "street   1.2619    0.3031 4.1633 0.0000     0.6678     1.8560\n",
      "=============================================================\n",
      "\n",
      "R-squared: 0.447861316168\n",
      "                Results: Robust linear model\n",
      "=============================================================\n",
      "Model:               RLM               Df Residuals:  28     \n",
      "Dependent Variable:  ice               Norm:          RamsayE\n",
      "Date:                2017-01-01 17:53  Scale Est.:    mad    \n",
      "No. Observations:    31                Cov. Type:     H1     \n",
      "Df Model:            2                 Scale:         2358.5 \n",
      "-------------------------------------------------------------\n",
      "        Coef.    Std.Err.   z    P>|z|    [0.025     0.975]  \n",
      "-------------------------------------------------------------\n",
      "const  886.9610 5114.2024 0.1734 0.8623 -9136.6915 10910.6135\n",
      "temp   186.6481  158.7394 1.1758 0.2397  -124.4755   497.7716\n",
      "street   1.2585    0.3083 4.0824 0.0000     0.6543     1.8628\n",
      "=============================================================\n",
      "\n",
      "R-squared: 0.443915836398\n",
      "                 Results: Robust linear model\n",
      "==============================================================\n",
      "Model:              RLM              Df Residuals: 28         \n",
      "Dependent Variable: ice              Norm:         TrimmedMean\n",
      "Date:               2017-01-01 17:53 Scale Est.:   mad        \n",
      "No. Observations:   31               Cov. Type:    H1         \n",
      "Df Model:           2                Scale:        2399.0     \n",
      "--------------------------------------------------------------\n",
      "         Coef.    Std.Err.   z    P>|z|    [0.025     0.975]  \n",
      "--------------------------------------------------------------\n",
      "const  1675.5682 4388.0229 0.3819 0.7026 -6924.7987 10275.9351\n",
      "temp    172.3140  136.1996 1.2652 0.2058   -94.6323   439.2603\n",
      "street    1.2072    0.2645 4.5639 0.0000     0.6888     1.7257\n",
      "==============================================================\n",
      "\n",
      "R-squared: 0.450016797385\n",
      "                Results: Robust linear model\n",
      "=============================================================\n",
      "Model:                RLM               Df Residuals:  28    \n",
      "Dependent Variable:   ice               Norm:          Hampel\n",
      "Date:                 2017-01-01 17:53  Scale Est.:    mad   \n",
      "No. Observations:     31                Cov. Type:     H1    \n",
      "Df Model:             2                 Scale:         2369.7\n",
      "-------------------------------------------------------------\n",
      "        Coef.    Std.Err.   z    P>|z|    [0.025     0.975]  \n",
      "-------------------------------------------------------------\n",
      "const  884.1661 4781.4139 0.1849 0.8533 -8487.2328 10255.5651\n",
      "temp   175.7526  148.4100 1.1842 0.2363  -115.1257   466.6309\n",
      "street   1.2998    0.2882 4.5097 0.0000     0.7349     1.8647\n",
      "=============================================================\n",
      "\n"
     ]
    }
   ],
   "source": [
    "import pandas as pd\n",
    "import statsmodels.api as sm\n",
    "from sklearn.metrics import r2_score\n",
    "\n",
    "data = pd.read_csv('../data/ice.csv')\n",
    "x = data[['temp' , 'street']]\n",
    "x = sm.add_constant(x)\n",
    "y = data['ice']\n",
    "\n",
    "est1 = sm.RLM(y, x, M=sm.robust.norms.HuberT()).fit()\n",
    "est2 = sm.RLM(y, x, M=sm.robust.norms.LeastSquares()).fit()\n",
    "est3 = sm.RLM(y, x, M=sm.robust.norms.AndrewWave()).fit()\n",
    "est4 = sm.RLM(y, x, M=sm.robust.norms.RamsayE()).fit()\n",
    "est5 = sm.RLM(y, x, M=sm.robust.norms.TrimmedMean()).fit()\n",
    "est6 = sm.RLM(y, x, M=sm.robust.norms.Hampel()).fit()\n",
    "r2 = r2_score(y, est1.predict(x))\n",
    "print('R-squared:',r2)\n",
    "print(est1.summary2())\n",
    "r2 = r2_score(y, est2.predict(x))\n",
    "print('R-squared:',r2)\n",
    "print(est2.summary2())\n",
    "r2 = r2_score(y, est3.predict(x))\n",
    "print('R-squared:',r2)\n",
    "print(est3.summary2())\n",
    "r2 = r2_score(y, est4.predict(x))\n",
    "print('R-squared:',r2)\n",
    "print(est4.summary2())\n",
    "r2 = r2_score(y, est5.predict(x))\n",
    "print('R-squared:',r2)\n",
    "print(est5.summary2())\n",
    "r2 = r2_score(y, est6.predict(x))\n",
    "print('R-squared:',r2)\n",
    "print(est6.summary2())"
   ]
  },
  {
   "cell_type": "markdown",
   "metadata": {},
   "source": [
    "評価基準が変わっても、R-squared値は0.45付近"
   ]
  },
  {
   "cell_type": "markdown",
   "metadata": {},
   "source": [
    "### 1.1.4 Lasso線形モデル\n",
    "\n",
    "Lasso線形モデルには、実行結果のsummary()関数がない。\n"
   ]
  },
  {
   "cell_type": "code",
   "execution_count": 6,
   "metadata": {
    "collapsed": false
   },
   "outputs": [
    {
     "name": "stdout",
     "output_type": "stream",
     "text": [
      "0.45008110592\n",
      "797.692098965\n",
      "[   0.          176.02585795    1.31035834]\n"
     ]
    }
   ],
   "source": [
    "import pandas as pd\n",
    "import numpy as np\n",
    "import statsmodels.api as sm\n",
    "from sklearn import linear_model\n",
    "\n",
    "data = pd.read_csv('../data/ice.csv')\n",
    "x = data[['temp', 'street']]\n",
    "x = sm.add_constant(x)\n",
    "y = data['ice']\n",
    "\n",
    "clf = linear_model.Lasso() # Lasso線形モデルを表現\n",
    "clf.fit(x,y)\n",
    "p = clf.predict(x)\n",
    "print(clf.score(x,y)) # score関数 : R-squared値の計算をする\n",
    "print(clf.intercept_) # intercept_関数 : 重回帰式の定数の値を示す\n",
    "print(clf.coef_) # coef_関数 : 係数の値を示す"
   ]
  },
  {
   "cell_type": "markdown",
   "metadata": {},
   "source": [
    "### 1.1.5 自己相関付き実行可能一般化最小二乗法GLSAR(feasible generalized least squares with autocorrelated AR)"
   ]
  },
  {
   "cell_type": "code",
   "execution_count": 7,
   "metadata": {
    "collapsed": false
   },
   "outputs": [
    {
     "name": "stdout",
     "output_type": "stream",
     "text": [
      "                           GLSAR Regression Results                           \n",
      "==============================================================================\n",
      "Dep. Variable:                    ice   R-squared:                       0.450\n",
      "Model:                          GLSAR   Adj. R-squared:                  0.409\n",
      "Method:                 Least Squares   F-statistic:                     11.03\n",
      "Date:                Sun, 01 Jan 2017   Prob (F-statistic):           0.000314\n",
      "Time:                        17:54:01   Log-Likelihood:                -274.50\n",
      "No. Observations:                  30   AIC:                             555.0\n",
      "Df Residuals:                      27   BIC:                             559.2\n",
      "Df Model:                           2                                         \n",
      "Covariance Type:            nonrobust                                         \n",
      "==============================================================================\n",
      "                 coef    std err          t      P>|t|      [95.0% Conf. Int.]\n",
      "------------------------------------------------------------------------------\n",
      "const        180.1840   5015.182      0.036      0.972     -1.01e+04  1.05e+04\n",
      "temp         192.3124    153.586      1.252      0.221      -122.820   507.445\n",
      "street         1.3267      0.291      4.566      0.000         0.731     1.923\n",
      "==============================================================================\n",
      "Omnibus:                        1.891   Durbin-Watson:                   1.986\n",
      "Prob(Omnibus):                  0.388   Jarque-Bera (JB):                1.668\n",
      "Skew:                          -0.466   Prob(JB):                        0.434\n",
      "Kurtosis:                       2.317   Cond. No.                     6.76e+04\n",
      "==============================================================================\n",
      "\n",
      "Warnings:\n",
      "[1] Standard Errors assume that the covariance matrix of the errors is correctly specified.\n",
      "[2] The condition number is large, 6.76e+04. This might indicate that there are\n",
      "strong multicollinearity or other numerical problems.\n"
     ]
    }
   ],
   "source": [
    "import pandas as pd\n",
    "import numpy as np\n",
    "import statsmodels.api as sm\n",
    "from sklearn import linear_model\n",
    "\n",
    "data = pd.read_csv('../data/ice.csv')\n",
    "x = data[['temp', 'street']]\n",
    "x = sm.add_constant(x)\n",
    "y = data['ice']\n",
    "\n",
    "est = sm.GLSAR(y,x).fit()\n",
    "print(est.summary())"
   ]
  },
  {
   "cell_type": "markdown",
   "metadata": {},
   "source": [
    "### 1.1.6 混合線形モデルMixedLM(Mixed Linear Model)\n",
    "\n",
    "MixedLMには、predict関数が実装されていないので、それに相当する予測値を計算する工夫が必要になる。\n",
    "\n",
    "MixedLMを実行すると、est.params.temp変数にtempの係数、est.params.street変数にstreetの係数が代入される。\n",
    "\n",
    "また、重回帰式のx1はdata['temp']、x2はdata['street']、cはest.params.Interceptで計算できる。\n",
    "\n",
    "したがって、予測値を求める式は次のようになる。\n",
    "\n",
    "e = est.params.temp*data['temp'] + est.params.street*data['street'] + est.params.Intercept\n",
    "\n",
    "このe変数は、predict(x)に相当する予測値になる。\n",
    "\n",
    "また、混合線形モデルは、次式で表す。\n",
    "\n",
    "est = sm.MixedLM.from_formula(\"ice ~ temp + street\", data, groups=y).fit"
   ]
  },
  {
   "cell_type": "code",
   "execution_count": 8,
   "metadata": {
    "collapsed": false
   },
   "outputs": [
    {
     "name": "stdout",
     "output_type": "stream",
     "text": [
      "Intercept       794.135485\n",
      "temp            176.143803\n",
      "street            1.310358\n",
      "Intercept RE      1.000000\n",
      "dtype: float64\n",
      "R-squared: 0.450081118761\n"
     ]
    },
    {
     "name": "stderr",
     "output_type": "stream",
     "text": [
      "/Users/hidemaro/.pyenv/versions/anaconda3-4.1.1/lib/python3.5/site-packages/statsmodels/regression/mixed_linear_model.py:160: VisibleDeprecationWarning: using a non-integer number instead of an integer will result in an error in the future\n",
      "  self._params = np.zeros(self.k_tot)\n"
     ]
    }
   ],
   "source": [
    "import pandas as pd\n",
    "import numpy as np\n",
    "import statsmodels.api as sm\n",
    "from sklearn.metrics import r2_score\n",
    "\n",
    "data = pd.read_csv('../data/ice.csv')\n",
    "x = data[['temp', 'street']]\n",
    "x = sm.add_constant(x)\n",
    "y = data['ice']\n",
    "\n",
    "est = sm.MixedLM.from_formula(\"ice ~ temp + street\", data, groups=y).fit()\n",
    "print(est.params)\n",
    "e = est.params.temp*data['temp'] + est.params.street*data['street'] + est.params.Intercept\n",
    "print('R-squared:', r2_score(y,e))"
   ]
  },
  {
   "cell_type": "markdown",
   "metadata": {},
   "source": [
    "### 1.1.7 分位点回帰QuantReg\n",
    "\n",
    "quantile_regression関数が重要な役割を果たす"
   ]
  },
  {
   "cell_type": "code",
   "execution_count": 9,
   "metadata": {
    "collapsed": false
   },
   "outputs": [
    {
     "name": "stdout",
     "output_type": "stream",
     "text": [
      "                         QuantReg Regression Results                          \n",
      "==============================================================================\n",
      "Dep. Variable:                    ice   Pseudo R-squared:               0.5776\n",
      "Model:                       QuantReg   Bandwidth:                         nan\n",
      "Method:                 Least Squares   Sparsity:                          nan\n",
      "Date:                Sun, 01 Jan 2017   No. Observations:                   31\n",
      "Time:                        17:54:12   Df Residuals:                       28\n",
      "                                        Df Model:                            2\n",
      "==============================================================================\n",
      "                 coef    std err          t      P>|t|      [95.0% Conf. Int.]\n",
      "------------------------------------------------------------------------------\n",
      "const        706.0755        nan        nan        nan           nan       nan\n",
      "temp         273.4424        nan        nan        nan           nan       nan\n",
      "street         1.3770        nan        nan        nan           nan       nan\n",
      "==============================================================================\n",
      "\n",
      "The condition number is large, 6.5e+04. This might indicate that there are\n",
      "strong multicollinearity or other numerical problems.\n"
     ]
    },
    {
     "name": "stderr",
     "output_type": "stream",
     "text": [
      "/Users/hidemaro/.pyenv/versions/anaconda3-4.1.1/lib/python3.5/site-packages/statsmodels/regression/quantile_regression.py:189: ConvergenceWarning: Convergence cycle detected\n",
      "  warnings.warn(\"Convergence cycle detected\", ConvergenceWarning)\n"
     ]
    }
   ],
   "source": [
    "import pandas as pd\n",
    "import numpy as np\n",
    "import statsmodels.api as sm\n",
    "from statsmodels.regression.quantile_regression import QuantReg\n",
    "import matplotlib.pyplot as plt\n",
    "%matplotlib inline\n",
    "\n",
    "data = pd.read_csv('../data/ice.csv')\n",
    "x = data[['temp', 'street']]\n",
    "x = sm.add_constant(x)\n",
    "y = data['ice']\n",
    "\n",
    "est = QuantReg(y,x).fit(q=0.99999)\n",
    "print(est.summary())"
   ]
  },
  {
   "cell_type": "markdown",
   "metadata": {},
   "source": [
    "今までのアルゴリズムと違って、R-squared値が0.5776と高くなっている。\n",
    "\n",
    "次のプログラムのように、重回帰式を直接書くこともできる。\n",
    "\n",
    "est = smf.quantreg('ice ~ temp + street',data).fit(q=.999)"
   ]
  },
  {
   "cell_type": "code",
   "execution_count": 10,
   "metadata": {
    "collapsed": false
   },
   "outputs": [
    {
     "name": "stderr",
     "output_type": "stream",
     "text": [
      "/Users/hidemaro/.pyenv/versions/anaconda3-4.1.1/lib/python3.5/site-packages/statsmodels/regression/quantile_regression.py:189: ConvergenceWarning: Convergence cycle detected\n",
      "  warnings.warn(\"Convergence cycle detected\", ConvergenceWarning)\n",
      "/Users/hidemaro/.pyenv/versions/anaconda3-4.1.1/lib/python3.5/site-packages/statsmodels/regression/quantile_regression.py:189: ConvergenceWarning: Convergence cycle detected\n",
      "  warnings.warn(\"Convergence cycle detected\", ConvergenceWarning)\n",
      "/Users/hidemaro/.pyenv/versions/anaconda3-4.1.1/lib/python3.5/site-packages/statsmodels/regression/quantile_regression.py:189: ConvergenceWarning: Convergence cycle detected\n",
      "  warnings.warn(\"Convergence cycle detected\", ConvergenceWarning)\n",
      "/Users/hidemaro/.pyenv/versions/anaconda3-4.1.1/lib/python3.5/site-packages/statsmodels/regression/quantile_regression.py:189: ConvergenceWarning: Convergence cycle detected\n",
      "  warnings.warn(\"Convergence cycle detected\", ConvergenceWarning)\n",
      "/Users/hidemaro/.pyenv/versions/anaconda3-4.1.1/lib/python3.5/site-packages/statsmodels/regression/quantile_regression.py:189: ConvergenceWarning: Convergence cycle detected\n",
      "  warnings.warn(\"Convergence cycle detected\", ConvergenceWarning)\n",
      "/Users/hidemaro/.pyenv/versions/anaconda3-4.1.1/lib/python3.5/site-packages/statsmodels/regression/quantile_regression.py:189: ConvergenceWarning: Convergence cycle detected\n",
      "  warnings.warn(\"Convergence cycle detected\", ConvergenceWarning)\n",
      "/Users/hidemaro/.pyenv/versions/anaconda3-4.1.1/lib/python3.5/site-packages/statsmodels/regression/quantile_regression.py:189: ConvergenceWarning: Convergence cycle detected\n",
      "  warnings.warn(\"Convergence cycle detected\", ConvergenceWarning)\n"
     ]
    },
    {
     "name": "stdout",
     "output_type": "stream",
     "text": [
      "                         QuantReg Regression Results                          \n",
      "==============================================================================\n",
      "Dep. Variable:                    ice   Pseudo R-squared:               0.5756\n",
      "Model:                       QuantReg   Bandwidth:                         nan\n",
      "Method:                 Least Squares   Sparsity:                          nan\n",
      "Date:                Sun, 01 Jan 2017   No. Observations:                   31\n",
      "Time:                        17:54:19   Df Residuals:                       28\n",
      "                                        Df Model:                            2\n",
      "==============================================================================\n",
      "                 coef    std err          t      P>|t|      [95.0% Conf. Int.]\n",
      "------------------------------------------------------------------------------\n",
      "Intercept    706.0655        nan        nan        nan           nan       nan\n",
      "temp         273.4426        nan        nan        nan           nan       nan\n",
      "street         1.3770        nan        nan        nan           nan       nan\n",
      "==============================================================================\n",
      "\n",
      "The condition number is large, 6.5e+04. This might indicate that there are\n",
      "strong multicollinearity or other numerical problems.\n"
     ]
    },
    {
     "name": "stderr",
     "output_type": "stream",
     "text": [
      "/Users/hidemaro/.pyenv/versions/anaconda3-4.1.1/lib/python3.5/site-packages/statsmodels/regression/quantile_regression.py:189: ConvergenceWarning: Convergence cycle detected\n",
      "  warnings.warn(\"Convergence cycle detected\", ConvergenceWarning)\n",
      "/Users/hidemaro/.pyenv/versions/anaconda3-4.1.1/lib/python3.5/site-packages/statsmodels/regression/quantile_regression.py:193: IterationLimitWarning: Maximum number of iterations (1000) reached.\n",
      "  IterationLimitWarning)\n"
     ]
    }
   ],
   "source": [
    "import pandas as pd\n",
    "import numpy as np\n",
    "import statsmodels.api as sm\n",
    "import statsmodels.formula.api as smf\n",
    "from statsmodels.regression.quantile_regression import QuantReg\n",
    "import matplotlib.pyplot as plt\n",
    "%matplotlib inline\n",
    "\n",
    "data = pd.read_csv('../data/ice.csv')\n",
    "data = sm.add_constant(data)\n",
    "x = data[['temp', 'street']]\n",
    "y = data['ice']\n",
    "\n",
    "est = smf.quantreg('ice ~ temp + street',data).fit(q=.999)\n",
    "print(est.summary())"
   ]
  },
  {
   "cell_type": "markdown",
   "metadata": {},
   "source": [
    "### 1.1.8 OMP手法(Orthogonal Matching Pursuit)\n",
    "\n",
    "OMP手法モデルは次式で表す。\n",
    "\n",
    "lm = OrthogonalMatchingPursuit(n_nonzero_coefs=3)"
   ]
  },
  {
   "cell_type": "code",
   "execution_count": 11,
   "metadata": {
    "collapsed": false
   },
   "outputs": [
    {
     "name": "stdout",
     "output_type": "stream",
     "text": [
      "[   0.          176.14380327    1.31035753]\n",
      "794.135485417\n",
      "0.450081118761\n"
     ]
    },
    {
     "name": "stderr",
     "output_type": "stream",
     "text": [
      "/Users/hidemaro/.pyenv/versions/anaconda3-4.1.1/lib/python3.5/site-packages/sklearn/linear_model/omp.py:658: RuntimeWarning:  Orthogonal matching pursuit ended prematurely due to linear\n",
      "dependence in the dictionary. The requested precision might not have been met.\n",
      "\n",
      "  return_n_iter=True)\n"
     ]
    }
   ],
   "source": [
    "import pandas as pd\n",
    "import numpy as np\n",
    "import statsmodels.api as sm\n",
    "from sklearn.linear_model import OrthogonalMatchingPursuit\n",
    "\n",
    "data = pd.read_csv('../data/ice.csv')\n",
    "x = data[['temp', 'street']]\n",
    "x = sm.add_constant(x)\n",
    "y = data['ice']\n",
    "\n",
    "lm = OrthogonalMatchingPursuit(n_nonzero_coefs=3)\n",
    "est = lm.fit(x,y)\n",
    "print(est.coef_)\n",
    "print(est.intercept_)\n",
    "print(est.score(x,y))"
   ]
  },
  {
   "cell_type": "markdown",
   "metadata": {},
   "source": [
    "### 1.1.9 イラスティックネット(ElasticNet)\n",
    "\n",
    "このモデルは、次式で表現する。\n",
    "\n",
    "clf = ElasticNet(alpha=0.01)"
   ]
  },
  {
   "cell_type": "code",
   "execution_count": 12,
   "metadata": {
    "collapsed": false
   },
   "outputs": [
    {
     "name": "stdout",
     "output_type": "stream",
     "text": [
      "0.450081108699\n"
     ]
    }
   ],
   "source": [
    "import pandas as pd\n",
    "from sklearn.linear_model import ElasticNet\n",
    "\n",
    "data = pd.read_csv('../data/ice.csv')\n",
    "x = data[['temp', 'street']]\n",
    "y = data['ice']\n",
    "\n",
    "clf = ElasticNet(alpha=0.01)\n",
    "clf.fit(x,y)\n",
    "print(clf.score(x,y))"
   ]
  }
 ],
 "metadata": {
  "anaconda-cloud": {},
  "kernelspec": {
   "display_name": "Python [Root]",
   "language": "python",
   "name": "Python [Root]"
  },
  "language_info": {
   "codemirror_mode": {
    "name": "ipython",
    "version": 3
   },
   "file_extension": ".py",
   "mimetype": "text/x-python",
   "name": "python",
   "nbconvert_exporter": "python",
   "pygments_lexer": "ipython3",
   "version": "3.5.2"
  }
 },
 "nbformat": 4,
 "nbformat_minor": 0
}
